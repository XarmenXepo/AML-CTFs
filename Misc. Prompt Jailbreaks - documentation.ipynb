{
 "cells": [
  {
   "cell_type": "markdown",
   "id": "215fe11c",
   "metadata": {},
   "source": [
    "<h1>Math in disguise can jailbreak Generative Pre-trained Transformers (GPTs).</h1>"
   ]
  },
  {
   "cell_type": "markdown",
   "id": "ee4d2f4d",
   "metadata": {},
   "source": [
    "Numerical and computational math may not be GPTs strength due to various reasons such as: <br>-lack of domain specific training <br>-strength in Natural Language Processing tasks instead of numerical reasoning  <br>-reliance on text-based representations of mathematics instead of actual understanding of mathematical notations. <br>Leveraging this weakness to subvert the model in to various types of math process, involving functions and variables that substitute or concatenate, can coerce the model in to breaking out of its boundaries. As seen in the example below, where the model is asked to output the value of a previously instructed 'variable G1', where said value is likely the objective of jailbreaking this model."
   ]
  },
  {
   "cell_type": "code",
   "execution_count": 1,
   "id": "39b38528",
   "metadata": {},
   "outputs": [
    {
     "data": {
      "text/html": [
       "<img src=\"IMG_3225.jpeg\" width=\"500\" height=\"500\"/>"
      ],
      "text/plain": [
       "<IPython.core.display.Image object>"
      ]
     },
     "execution_count": 1,
     "metadata": {},
     "output_type": "execute_result"
    }
   ],
   "source": [
    "# import image module \n",
    "from IPython.display import Image \n",
    "  \n",
    "# get the image \n",
    "Image(url=\"IMG_3225.jpeg\", width=500, height=500) "
   ]
  },
  {
   "cell_type": "markdown",
   "id": "610eaf63",
   "metadata": {},
   "source": [
    "<h1>GPTs may be unreliable at solving math-related concepts </h1>"
   ]
  },
  {
   "cell_type": "markdown",
   "id": "61d2efd8",
   "metadata": {},
   "source": [
    "Building from the above, where GPTs may be be weak in math, the concept can be further explored to demonstrate the possibility for a model to output misleading and inconsistent information, where the GPT will hallucinate answers that are partially correct as well as wrong simultaneously. In the below example, the model is shown returning gibberish when asked to return an encoding in the Atbash Cipher format."
   ]
  },
  {
   "cell_type": "code",
   "execution_count": 12,
   "id": "7881c5c3",
   "metadata": {},
   "outputs": [
    {
     "data": {
      "text/html": [
       "<img src=\"IMG_3226.jpeg\" width=\"500\" height=\"500\"/>"
      ],
      "text/plain": [
       "<IPython.core.display.Image object>"
      ]
     },
     "execution_count": 12,
     "metadata": {},
     "output_type": "execute_result"
    }
   ],
   "source": [
    "# import image module \n",
    "from IPython.display import Image \n",
    "  \n",
    "# get the image \n",
    "Image(url=\"IMG_3226.jpeg\", width=500, height=500) "
   ]
  },
  {
   "cell_type": "markdown",
   "id": "f18699d1",
   "metadata": {},
   "source": [
    "<h1>GPTs can be prodded to continue erring </h1>"
   ]
  },
  {
   "cell_type": "markdown",
   "id": "d09bfca1",
   "metadata": {},
   "source": [
    "When providing GPTs with inappropriate, unclear or harmful input, model may sometimes hang, become unresponsive, answers may be returned truncated and generally appear to provide a poor user experience. It may be possible, to prompt the model to continue accepting the harmful input and there by possibly producing an undesirable output that breaks the guardrails. As seen in the example below, by: <br>-providing more context <br>-slight rephrase <br>-not including any potential suspect problem-content <br>the model was able to continue and eventually provided harmful and inaccurate information."
   ]
  },
  {
   "cell_type": "code",
   "execution_count": 11,
   "id": "4738a470",
   "metadata": {},
   "outputs": [
    {
     "data": {
      "text/html": [
       "<img src=\"IMG_3227.jpeg\" width=\"500\" height=\"500\"/>"
      ],
      "text/plain": [
       "<IPython.core.display.Image object>"
      ]
     },
     "execution_count": 11,
     "metadata": {},
     "output_type": "execute_result"
    }
   ],
   "source": [
    "# import image module \n",
    "from IPython.display import Image \n",
    "  \n",
    "# get the image \n",
    "Image(url=\"IMG_3227.jpeg\", width=500, height=500) "
   ]
  },
  {
   "cell_type": "markdown",
   "id": "12fed81a",
   "metadata": {},
   "source": [
    "<h1>Temporal Denial of Service (DoS) can be induced in GPTs</h1>"
   ]
  },
  {
   "cell_type": "markdown",
   "id": "5bfdf333",
   "metadata": {},
   "source": [
    "A temporal DoS can be induced in GPT models, where the model is input instructions that would eventually cause it to respond with a fixed output, there by giving the impression that the model app service is not functional. As seen in the examples below, where the model is told to output a fixed response after a specific number of turns."
   ]
  },
  {
   "cell_type": "code",
   "execution_count": 5,
   "id": "29356bac",
   "metadata": {},
   "outputs": [
    {
     "data": {
      "text/html": [
       "<img src=\"IMG_3228.jpeg\" width=\"600\" height=\"600\"/>"
      ],
      "text/plain": [
       "<IPython.core.display.Image object>"
      ]
     },
     "execution_count": 5,
     "metadata": {},
     "output_type": "execute_result"
    }
   ],
   "source": [
    "# import image module \n",
    "from IPython.display import Image \n",
    "  \n",
    "# get the image \n",
    "Image(url=\"IMG_3228.jpeg\", width=500, height=500) "
   ]
  },
  {
   "cell_type": "code",
   "execution_count": 10,
   "id": "1d65dac6",
   "metadata": {},
   "outputs": [
    {
     "data": {
      "text/html": [
       "<img src=\"IMG_3229.jpeg\" width=\"200\" height=\"200\"/>"
      ],
      "text/plain": [
       "<IPython.core.display.Image object>"
      ]
     },
     "execution_count": 10,
     "metadata": {},
     "output_type": "execute_result"
    }
   ],
   "source": [
    "# import image module \n",
    "from IPython.display import Image \n",
    "  \n",
    "# get the image \n",
    "Image(url=\"IMG_3229.jpeg\", width=200, height=200) "
   ]
  }
 ],
 "metadata": {
  "kernelspec": {
   "display_name": "Python 3 (ipykernel)",
   "language": "python",
   "name": "python3"
  },
  "language_info": {
   "codemirror_mode": {
    "name": "ipython",
    "version": 3
   },
   "file_extension": ".py",
   "mimetype": "text/x-python",
   "name": "python",
   "nbconvert_exporter": "python",
   "pygments_lexer": "ipython3",
   "version": "3.11.4"
  }
 },
 "nbformat": 4,
 "nbformat_minor": 5
}
