{
 "cells": [
  {
   "cell_type": "markdown",
   "id": "82127507",
   "metadata": {},
   "source": [
    "https://crucible.dreadnode.io/learning/topics/introduction <p>challenge Bear2 - model extraction - https://crucible.dreadnode.io/challenges/bear2</p>"
   ]
  },
  {
   "cell_type": "markdown",
   "id": "f45234fe",
   "metadata": {},
   "source": [
    "<br>\n",
    "<h1>Testing out some API call functionality first!</h1>"
   ]
  },
  {
   "cell_type": "code",
   "execution_count": 1,
   "id": "82dcd377",
   "metadata": {},
   "outputs": [],
   "source": [
    "import requests"
   ]
  },
  {
   "cell_type": "code",
   "execution_count": 2,
   "id": "3babd803",
   "metadata": {},
   "outputs": [
    {
     "name": "stdout",
     "output_type": "stream",
     "text": [
      "Collecting library\n",
      "  Downloading Library-0.0.0.tar.gz (1.4 kB)\n",
      "  Preparing metadata (setup.py) ... \u001b[?25ldone\n",
      "\u001b[?25hBuilding wheels for collected packages: library\n",
      "  Building wheel for library (setup.py) ... \u001b[?25ldone\n",
      "\u001b[?25h  Created wheel for library: filename=Library-0.0.0-py3-none-any.whl size=2057 sha256=bdee7b6298c462f104a71c644edbf21c8b3867321d0dbafc38cf60e2957fb9ac\n",
      "  Stored in directory: /Users/carmenliu/Library/Caches/pip/wheels/9d/51/b2/426cb1ee6a2c48796f8da936cafffa327c228091e3adf6a5cf\n",
      "Successfully built library\n",
      "Installing collected packages: library\n",
      "Successfully installed library-0.0.0\n",
      "Note: you may need to restart the kernel to use updated packages.\n"
     ]
    }
   ],
   "source": [
    "pip install --upgrade 'library'"
   ]
  },
  {
   "cell_type": "code",
   "execution_count": 81,
   "id": "bc20dafa",
   "metadata": {},
   "outputs": [
    {
     "data": {
      "text/plain": [
       "200"
      ]
     },
     "execution_count": 81,
     "metadata": {},
     "output_type": "execute_result"
    }
   ],
   "source": [
    "r = requests.get('http://example.com')\n",
    "r.status_code"
   ]
  },
  {
   "cell_type": "code",
   "execution_count": 82,
   "id": "d94747c1",
   "metadata": {},
   "outputs": [
    {
     "data": {
      "text/plain": [
       "'<!doctype html>\\n<html>\\n<head>\\n    <title>Example Domain</title>\\n\\n    <meta charset=\"utf-8\" />\\n    <meta http-equiv=\"Content-type\" content=\"text/html; charset=utf-8\" />\\n    <meta name=\"viewport\" content=\"width=device-width, initial-scale=1\" />\\n    <style type=\"text/css\">\\n    body {\\n        background-color: #f0f0f2;\\n        margin: 0;\\n        padding: 0;\\n        font-family: -apple-system, system-ui, BlinkMacSystemFont, \"Segoe UI\", \"Open Sans\", \"Helvetica Neue\", Helvetica, Arial, sans-serif;\\n        \\n    }\\n    div {\\n        width: 600px;\\n        margin: 5em auto;\\n        padding: 2em;\\n        background-color: #fdfdff;\\n        border-radius: 0.5em;\\n        box-shadow: 2px 3px 7px 2px rgba(0,0,0,0.02);\\n    }\\n    a:link, a:visited {\\n        color: #38488f;\\n        text-decoration: none;\\n    }\\n    @media (max-width: 700px) {\\n        div {\\n            margin: 0 auto;\\n            width: auto;\\n        }\\n    }\\n    </style>    \\n</head>\\n\\n<body>\\n<div>\\n    <h1>Example Domain</h1>\\n    <p>This domain is for use in illustrative examples in documents. You may use this\\n    domain in literature without prior coordination or asking for permission.</p>\\n    <p><a href=\"https://www.iana.org/domains/example\">More information...</a></p>\\n</div>\\n</body>\\n</html>\\n'"
      ]
     },
     "execution_count": 82,
     "metadata": {},
     "output_type": "execute_result"
    }
   ],
   "source": [
    "r.text"
   ]
  },
  {
   "cell_type": "markdown",
   "id": "d2ed2351",
   "metadata": {},
   "source": [
    "<br>\n",
    "<h1>1. Starting Bear2 🐻 Model Extraction Challenge!</h1>\n",
    "<br>Install the required packages for Bear2 Model Extraction: "
   ]
  },
  {
   "cell_type": "code",
   "execution_count": 25,
   "id": "4480c892",
   "metadata": {},
   "outputs": [
    {
     "name": "stdout",
     "output_type": "stream",
     "text": [
      "Note: you may need to restart the kernel to use updated packages.\n",
      "Note: you may need to restart the kernel to use updated packages.\n",
      "Note: you may need to restart the kernel to use updated packages.\n",
      "Note: you may need to restart the kernel to use updated packages.\n",
      "Requirement already satisfied: joblib in /Users/carmenliu/anaconda3/lib/python3.11/site-packages (1.2.0)\n",
      "Note: you may need to restart the kernel to use updated packages.\n"
     ]
    }
   ],
   "source": [
    "%pip install requests --quiet\n",
    "%pip install pandas --quiet \n",
    "%pip install numpy --quiet \n",
    "%pip install scikit-learn --quiet \n",
    "%pip install joblib"
   ]
  },
  {
   "cell_type": "markdown",
   "id": "024da912",
   "metadata": {},
   "source": [
    "<br>Set the variables used throughout the notebook:"
   ]
  },
  {
   "cell_type": "code",
   "execution_count": 26,
   "id": "d3cd640b",
   "metadata": {},
   "outputs": [],
   "source": [
    "CHALLENGE = \"bear2\"\n",
    "CRUCIBLE_URL = \"https://crucible.dreadnode.io\"\n",
    "CHALLENGE_URL = \"https://bear2.crucible.dreadnode.io\""
   ]
  },
  {
   "cell_type": "markdown",
   "id": "dcab1158",
   "metadata": {},
   "source": [
    "<br>Querying input_data with hunger : 5"
   ]
  },
  {
   "cell_type": "code",
   "execution_count": 29,
   "id": "42c3a1d9",
   "metadata": {},
   "outputs": [
    {
     "name": "stdout",
     "output_type": "stream",
     "text": [
      "{'outputs': [97.49999999999997]}\n"
     ]
    }
   ],
   "source": [
    "import numpy as np\n",
    "import requests\n",
    "\n",
    "input_data = {\"hunger\": 5}\n",
    "\n",
    "\n",
    "def query(input_data):\n",
    "    payload = {\"data\": input_data}\n",
    "    headers = {\"Authorization\": \"NxoawJ60Puw-z-Bnkk0JhuiUmGjhAncB\"}\n",
    "    response = requests.post(\n",
    "        \"https://bear2.crucible.dreadnode.io/score\",\n",
    "        headers=headers,\n",
    "        json=input_data\n",
    "    )\n",
    "\n",
    "    return response.json()\n",
    "\n",
    "\n",
    "response = query(input_data)\n",
    "print(response)"
   ]
  },
  {
   "cell_type": "markdown",
   "id": "716ab5cc",
   "metadata": {},
   "source": [
    "<br>Querying input_data with hunger : 999"
   ]
  },
  {
   "cell_type": "code",
   "execution_count": 32,
   "id": "1b63db94",
   "metadata": {},
   "outputs": [
    {
     "name": "stdout",
     "output_type": "stream",
     "text": [
      "{'message': 'Invalid input. hunger should be a value between 0 and 100'}\n"
     ]
    }
   ],
   "source": [
    "import numpy as np\n",
    "import requests\n",
    "\n",
    "input_data = {\"hunger\": 999}\n",
    "\n",
    "\n",
    "def query(input_data):\n",
    "    payload = {\"data\": input_data}\n",
    "    headers = {\"Authorization\": \"NxoawJ60Puw-z-Bnkk0JhuiUmGjhAncB\"}\n",
    "    response = requests.post(\n",
    "        \"https://bear2.crucible.dreadnode.io/score\",\n",
    "        headers=headers,\n",
    "        json=input_data\n",
    "    )\n",
    "\n",
    "    return response.json()\n",
    "\n",
    "\n",
    "response = query(input_data)\n",
    "print(response)"
   ]
  },
  {
   "cell_type": "markdown",
   "id": "76562f49",
   "metadata": {},
   "source": [
    "<br>Querying input_data with hunger : 100 to stay within a valid range as indicated by the error message returned above."
   ]
  },
  {
   "cell_type": "code",
   "execution_count": 44,
   "id": "b1f35e7f",
   "metadata": {},
   "outputs": [
    {
     "name": "stdout",
     "output_type": "stream",
     "text": [
      "{'outputs': [49.999999999999986]}\n"
     ]
    }
   ],
   "source": [
    "import numpy as np\n",
    "import requests\n",
    "\n",
    "input_data = {\"hunger\": 100}\n",
    "\n",
    "\n",
    "def query(input_data):\n",
    "    payload = {\"data\": input_data}\n",
    "    headers = {\"Authorization\": \"NxoawJ60Puw-z-Bnkk0JhuiUmGjhAncB\"}\n",
    "    response = requests.post(\n",
    "        \"https://bear2.crucible.dreadnode.io/score\",\n",
    "        headers=headers,\n",
    "        json=input_data\n",
    "    )\n",
    "\n",
    "    return response.json()\n",
    "\n",
    "\n",
    "response = query(input_data)\n",
    "print(response)"
   ]
  },
  {
   "cell_type": "markdown",
   "id": "42f4ec24",
   "metadata": {},
   "source": [
    "<br>Querying input_data with hunger : test"
   ]
  },
  {
   "cell_type": "code",
   "execution_count": 35,
   "id": "2cef5c97",
   "metadata": {},
   "outputs": [
    {
     "name": "stdout",
     "output_type": "stream",
     "text": [
      "{'message': 'Invalid input. Input should be a valid number, unable to parse string as a number.'}\n"
     ]
    }
   ],
   "source": [
    "import numpy as np\n",
    "import requests\n",
    "\n",
    "input_data = {\"hunger\": 'test'}\n",
    "\n",
    "\n",
    "def query(input_data):\n",
    "    payload = {\"data\": input_data}\n",
    "    headers = {\"Authorization\": \"NxoawJ60Puw-z-Bnkk0JhuiUmGjhAncB\"}\n",
    "    response = requests.post(\n",
    "        \"https://bear2.crucible.dreadnode.io/score\",\n",
    "        headers=headers,\n",
    "        json=input_data\n",
    "    )\n",
    "\n",
    "    return response.json()\n",
    "\n",
    "\n",
    "response = query(input_data)\n",
    "print(response)"
   ]
  },
  {
   "cell_type": "markdown",
   "id": "c2a71ddb",
   "metadata": {},
   "source": [
    "<br>Querying with \"coef\" instead of \"hunger\""
   ]
  },
  {
   "cell_type": "code",
   "execution_count": 55,
   "id": "5b4c4a71",
   "metadata": {},
   "outputs": [
    {
     "name": "stdout",
     "output_type": "stream",
     "text": [
      "{'message': 'Incorrect coefficient. Try again.'}\n"
     ]
    }
   ],
   "source": [
    "import numpy as np\n",
    "import requests\n",
    "\n",
    "input_data = {\"coef\": 55}\n",
    "\n",
    "\n",
    "def query(input_data):\n",
    "    payload = {\"data\": input_data}\n",
    "    headers = {\"Authorization\": \"NxoawJ60Puw-z-Bnkk0JhuiUmGjhAncB\"}\n",
    "    response = requests.post(\n",
    "        \"https://bear2.crucible.dreadnode.io/score\",\n",
    "        headers=headers,\n",
    "        json=input_data\n",
    "    )\n",
    "\n",
    "    return response.json()\n",
    "\n",
    "\n",
    "response = query(input_data)\n",
    "print(response)"
   ]
  },
  {
   "cell_type": "markdown",
   "id": "b1e0f562",
   "metadata": {},
   "source": [
    "<h1>2. Data Collection - generate & collect the data from range 0-100</h1>\n",
    "<br>Now that we know the range is between 0 - 100, we ca automate the data collection from the range of (lower bounds) 0 to (upper bounds) 100 with a loop. By automating this process with a script, we not only save time but also guarantees the precision of our data collection effort."
   ]
  },
  {
   "cell_type": "code",
   "execution_count": 54,
   "id": "d95003c5",
   "metadata": {},
   "outputs": [
    {
     "name": "stdout",
     "output_type": "stream",
     "text": [
      "{0: 99.99999999999997, 1: 99.49999999999997, 2: 98.99999999999997, 3: 98.49999999999997, 4: 97.99999999999997, 5: 97.49999999999997, 6: 96.99999999999997, 7: 96.49999999999997, 8: 95.99999999999997, 9: 95.49999999999997, 10: 94.99999999999997, 11: 94.49999999999997, 12: 93.99999999999997, 13: 93.49999999999997, 14: 92.99999999999997, 15: 92.49999999999997, 16: 91.99999999999997, 17: 91.49999999999997, 18: 90.99999999999997, 19: 90.49999999999997, 20: 89.99999999999997, 21: 89.49999999999997, 22: 88.99999999999997, 23: 88.49999999999997, 24: 87.99999999999997, 25: 87.49999999999997, 26: 86.99999999999997, 27: 86.49999999999997, 28: 85.99999999999997, 29: 85.49999999999997, 30: 84.99999999999997, 31: 84.49999999999997, 32: 83.99999999999997, 33: 83.49999999999997, 34: 82.99999999999997, 35: 82.49999999999997, 36: 81.99999999999997, 37: 81.49999999999997, 38: 80.99999999999997, 39: 80.49999999999997, 40: 79.99999999999997, 41: 79.49999999999997, 42: 78.99999999999997, 43: 78.49999999999997, 44: 77.99999999999997, 45: 77.49999999999997, 46: 76.99999999999997, 47: 76.49999999999997, 48: 75.99999999999997, 49: 75.49999999999997, 50: 74.99999999999997, 51: 74.49999999999997, 52: 73.99999999999997, 53: 73.49999999999997, 54: 72.99999999999997, 55: 72.49999999999997, 56: 71.99999999999997, 57: 71.49999999999997, 58: 70.99999999999997, 59: 70.49999999999997, 60: 69.99999999999997, 61: 69.49999999999997, 62: 68.99999999999997, 63: 68.49999999999997, 64: 67.99999999999997, 65: 67.49999999999997, 66: 66.99999999999997, 67: 66.49999999999997, 68: 65.99999999999997, 69: 65.49999999999997, 70: 64.99999999999997, 71: 64.49999999999997, 72: 63.99999999999998, 73: 63.49999999999998, 74: 62.99999999999998, 75: 62.49999999999998, 76: 61.99999999999998, 77: 61.49999999999998, 78: 60.99999999999998, 79: 60.49999999999998, 80: 59.99999999999998, 81: 59.49999999999998, 82: 58.99999999999998, 83: 58.49999999999998, 84: 57.99999999999998, 85: 57.49999999999998, 86: 56.99999999999998, 87: 56.49999999999998, 88: 55.99999999999998, 89: 55.49999999999998, 90: 54.99999999999998, 91: 54.49999999999998, 92: 53.99999999999998, 93: 53.49999999999998, 94: 52.99999999999998, 95: 52.49999999999998, 96: 51.999999999999986, 97: 51.499999999999986, 98: 50.999999999999986, 99: 50.499999999999986, 100: 49.999999999999986}\n"
     ]
    }
   ],
   "source": [
    " import numpy as np\n",
    "import requests\n",
    "\n",
    "# Define input data range\n",
    "hunger_values = range(101)  # From 0 to 100\n",
    "results = {}  # Store the results from the endpoint here\n",
    "\n",
    "def query(input_data):\n",
    "    payload = {\"data\": input_data}\n",
    "    headers = {\"Authorization\": \"NxoawJ60Puw-z-Bnkk0JhuiUmGjhAncB\"}\n",
    "    response = requests.post(\n",
    "        \"https://bear2.crucible.dreadnode.io/score\",\n",
    "        headers=headers,\n",
    "        json=input_data\n",
    "    )\n",
    "    \n",
    "    return response.json()\n",
    "\n",
    "# Loop through hunger values and store results\n",
    "for h in hunger_values:\n",
    "    response = query({\"hunger\": h})\n",
    "    results[h] = response['outputs'][0]  # Assuming 'outputs' contains the desired value\n",
    "\n",
    "# Print all results\n",
    "print(results)\n"
   ]
  },
  {
   "cell_type": "markdown",
   "id": "20bc58c2",
   "metadata": {},
   "source": [
    "<h1>3. Data Analysis with a Scatter Plot</h1>\n",
    "<br>With the above dataset results, we can use pandas and matplotlib to discern patterns/trends/relationships that could reveal hints of the underlying model the API uses. A scatter plot is particularly useful for this type of analysis as it allows you to visually inspect the relationship between the two variables. It shows when bears are hungry they are unhappy. Not a surprise. 🐻"
   ]
  },
  {
   "cell_type": "code",
   "execution_count": 56,
   "id": "32c84748",
   "metadata": {},
   "outputs": [
    {
     "data": {
      "image/png": "[encoded data removed]",
      "text/plain": [
       "<Figure size 1000x600 with 1 Axes>"
      ]
     },
     "metadata": {},
     "output_type": "display_data"
    }
   ],
   "source": [
    "import pandas as pd # For data analysis\n",
    "import matplotlib.pyplot as plt\n",
    "\n",
    "df = pd.DataFrame(list(results.items()), columns=['Hunger', 'Happiness'])\n",
    "\n",
    "# Plotting Hunger vs. Happiness\n",
    "plt.figure(figsize=(10, 6))\n",
    "plt.scatter(df['Hunger'], df['Happiness'], alpha=0.6)\n",
    "plt.title('Hunger vs. Happiness Analysis')\n",
    "plt.xlabel('Hunger Level')\n",
    "plt.ylabel('Happiness Score')\n",
    "plt.grid(True)\n",
    "plt.show()"
   ]
  },
  {
   "cell_type": "markdown",
   "id": "7a613030",
   "metadata": {},
   "source": [
    "<h1>4. Stealing the Model</h1>\n",
    "<br>After identifying potential relationships between hungery x happiness for the bears, we can now replicate it. As the chart above seems to project a linear relationship, a simple linear regression model may suffice."
   ]
  },
  {
   "cell_type": "code",
   "execution_count": 63,
   "id": "280f0aae",
   "metadata": {},
   "outputs": [
    {
     "name": "stdout",
     "output_type": "stream",
     "text": [
      "Coefficient: -0.4999999999999999, Intercept: 99.99999999999997\n",
      "     Hunger  Happiness  Predicted_Happiness\n",
      "0         0      100.0                100.0\n",
      "1         1       99.5                 99.5\n",
      "2         2       99.0                 99.0\n",
      "3         3       98.5                 98.5\n",
      "4         4       98.0                 98.0\n",
      "..      ...        ...                  ...\n",
      "96       96       52.0                 52.0\n",
      "97       97       51.5                 51.5\n",
      "98       98       51.0                 51.0\n",
      "99       99       50.5                 50.5\n",
      "100     100       50.0                 50.0\n",
      "\n",
      "[101 rows x 3 columns]\n"
     ]
    }
   ],
   "source": [
    "import numpy as np\n",
    "import requests\n",
    "import pandas as pd\n",
    "from sklearn.linear_model import LinearRegression\n",
    "\n",
    "# Store the results from the endpoint here\n",
    "results = {}\n",
    "\n",
    "def query(input_data):\n",
    "    headers = {\"Authorization\": \"NxoawJ60Puw-z-Bnkk0JhuiUmGjhAncB\"}\n",
    "    response = requests.post(\n",
    "        \"https://bear2.crucible.dreadnode.io/score\",\n",
    "        headers=headers,\n",
    "        json=input_data\n",
    "    )\n",
    "    return response.json()\n",
    "\n",
    "# Loop through hunger values from 0 to 100\n",
    "for h in range(101):\n",
    "    response = query({\"hunger\": h})\n",
    "    results[h] = response['outputs'][0]  # Assuming 'outputs' contains happiness\n",
    "\n",
    "# Convert results dictionary to DataFrame\n",
    "df = pd.DataFrame(list(results.items()), columns=['Hunger', 'Happiness'])\n",
    "\n",
    "# Create and fit the linear regression model\n",
    "lr = LinearRegression()\n",
    "lr.fit(df[['Hunger']], df['Happiness'])\n",
    "\n",
    "# Example of making predictions\n",
    "predictions = lr.predict(df[['Hunger']])\n",
    "\n",
    "# Print the coefficients\n",
    "print(f\"Coefficient: {lr.coef_[0]}, Intercept: {lr.intercept_}\")\n",
    "\n",
    "# Optional: Display predictions alongside original data\n",
    "df['Predicted_Happiness'] = predictions\n",
    "print(df)\n"
   ]
  },
  {
   "cell_type": "markdown",
   "id": "60bcf928",
   "metadata": {},
   "source": [
    "<h1>5. Extract the Coefficient & get Flag!</h1>\n",
    "<br>Find the result of the lr.coef_ , which can be used to query the coef_data and output the flag! Happy hacking."
   ]
  },
  {
   "cell_type": "code",
   "execution_count": 64,
   "id": "4e05f623",
   "metadata": {},
   "outputs": [
    {
     "data": {
      "text/plain": [
       "array([-0.5])"
      ]
     },
     "execution_count": 64,
     "metadata": {},
     "output_type": "execute_result"
    }
   ],
   "source": [
    "lr.coef_"
   ]
  },
  {
   "cell_type": "code",
   "execution_count": 73,
   "id": "3e30a485",
   "metadata": {},
   "outputs": [
    {
     "ename": "NameError",
     "evalue": "name 's0me_valu3_h3re' is not defined",
     "output_type": "error",
     "traceback": [
      "\u001b[0;31m---------------------------------------------------------------------------\u001b[0m",
      "\u001b[0;31mNameError\u001b[0m                                 Traceback (most recent call last)",
      "Cell \u001b[0;32mIn[73], line 1\u001b[0m\n\u001b[0;32m----> 1\u001b[0m coef_data \u001b[38;5;241m=\u001b[39m {\u001b[38;5;124m\"\u001b[39m\u001b[38;5;124mcoef\u001b[39m\u001b[38;5;124m\"\u001b[39m: s0me_valu3_h3re}\n\u001b[1;32m      3\u001b[0m query(coef_data)\n",
      "\u001b[0;31mNameError\u001b[0m: name 's0me_valu3_h3re' is not defined"
     ]
    }
   ],
   "source": [
    "coef_data = {\"coef\": s0me_valu3_h3re}\n",
    "\n",
    "query(coef_data)"
   ]
  },
  {
   "cell_type": "code",
   "execution_count": null,
   "id": "5302b124",
   "metadata": {},
   "outputs": [],
   "source": []
  }
 ],
 "metadata": {
  "kernelspec": {
   "display_name": "Python 3 (ipykernel)",
   "language": "python",
   "name": "python3"
  },
  "language_info": {
   "codemirror_mode": {
    "name": "ipython",
    "version": 3
   },
   "file_extension": ".py",
   "mimetype": "text/x-python",
   "name": "python",
   "nbconvert_exporter": "python",
   "pygments_lexer": "ipython3",
   "version": "3.11.4"
  }
 },
 "nbformat": 4,
 "nbformat_minor": 5
}
